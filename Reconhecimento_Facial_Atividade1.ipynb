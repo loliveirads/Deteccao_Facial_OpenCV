{
 "cells": [
  {
   "cell_type": "code",
   "execution_count": 1,
   "id": "a124f2fd",
   "metadata": {},
   "outputs": [
    {
     "ename": "ModuleNotFoundError",
     "evalue": "No module named 'face_recognition'",
     "output_type": "error",
     "traceback": [
      "\u001b[31m---------------------------------------------------------------------------\u001b[39m",
      "\u001b[31mModuleNotFoundError\u001b[39m                       Traceback (most recent call last)",
      "\u001b[36mCell\u001b[39m\u001b[36m \u001b[39m\u001b[32mIn[1]\u001b[39m\u001b[32m, line 5\u001b[39m\n\u001b[32m      1\u001b[39m \u001b[38;5;66;03m# Reconhecimento Facial com `face_recognition`\u001b[39;00m\n\u001b[32m      2\u001b[39m \u001b[38;5;66;03m# Autor: Luiz Fernando\u001b[39;00m\n\u001b[32m      3\u001b[39m \u001b[38;5;66;03m# Descrição: Este notebook realiza o reconhecimento facial a partir de 4 imagens de treino e 1 imagem de teste para cada pessoa.\u001b[39;00m\n\u001b[32m----> \u001b[39m\u001b[32m5\u001b[39m \u001b[38;5;28;01mimport\u001b[39;00m\u001b[38;5;250m \u001b[39m\u001b[34;01mface_recognition\u001b[39;00m\n\u001b[32m      6\u001b[39m \u001b[38;5;28;01mimport\u001b[39;00m\u001b[38;5;250m \u001b[39m\u001b[34;01mos\u001b[39;00m\n\u001b[32m      7\u001b[39m \u001b[38;5;28;01mimport\u001b[39;00m\u001b[38;5;250m \u001b[39m\u001b[34;01mnumpy\u001b[39;00m\u001b[38;5;250m \u001b[39m\u001b[38;5;28;01mas\u001b[39;00m\u001b[38;5;250m \u001b[39m\u001b[34;01mnp\u001b[39;00m\n",
      "\u001b[31mModuleNotFoundError\u001b[39m: No module named 'face_recognition'"
     ]
    }
   ],
   "source": [
    "\n",
    "# Reconhecimento Facial com `face_recognition`\n",
    "# Autor: Luiz Fernando\n",
    "# Descrição: Este notebook realiza o reconhecimento facial a partir de 4 imagens de treino e 1 imagem de teste para cada pessoa.\n",
    "\n",
    "import face_recognition\n",
    "import os\n",
    "import numpy as np\n",
    "from PIL import Image\n",
    "import matplotlib.pyplot as plt\n",
    "\n",
    "# Caminho base com as imagens organizadas por pessoa\n",
    "base_path = \"images\"\n",
    "\n",
    "# Inicializar listas para armazenar codificações e rótulos\n",
    "known_encodings = []\n",
    "known_labels = []\n",
    "\n",
    "# Etapa 1: Treinamento com 4 imagens por pessoa\n",
    "for person in os.listdir(base_path):\n",
    "    person_path = os.path.join(base_path, person)\n",
    "    images = sorted(os.listdir(person_path))  # ordena 1.jpg a 5.jpg\n",
    "    for img_name in images[:4]:  # primeiras 4 imagens para treino\n",
    "        img_path = os.path.join(person_path, img_name)\n",
    "        image = face_recognition.load_image_file(img_path)\n",
    "        encoding = face_recognition.face_encodings(image)\n",
    "        if encoding:\n",
    "            known_encodings.append(encoding[0])\n",
    "            known_labels.append(person)\n",
    "\n",
    "# Etapa 2: Teste com a 5ª imagem de cada pessoa\n",
    "print(\"Resultados de Teste:\")\n",
    "for person in os.listdir(base_path):\n",
    "    img_test_path = os.path.join(base_path, person, \"5.jpg\")\n",
    "    test_image = face_recognition.load_image_file(img_test_path)\n",
    "    test_encoding = face_recognition.face_encodings(test_image)\n",
    "    \n",
    "    if test_encoding:\n",
    "        results = face_recognition.compare_faces(known_encodings, test_encoding[0])\n",
    "        distances = face_recognition.face_distance(known_encodings, test_encoding[0])\n",
    "        \n",
    "        # Verificação da menor distância\n",
    "        best_match_index = np.argmin(distances)\n",
    "        label_predita = known_labels[best_match_index]\n",
    "\n",
    "        print(f\"Pessoa: {person} → Reconhecida como: {label_predita} - {'✅' if results[best_match_index] else '❌'}\")\n",
    "\n",
    "        # Exibir imagem da pessoa de teste\n",
    "        image_pil = Image.open(img_test_path)\n",
    "        plt.imshow(image_pil)\n",
    "        plt.title(f\"Reconhecido como: {label_predita}\")\n",
    "        plt.axis('off')\n",
    "        plt.show()\n"
   ]
  }
 ],
 "metadata": {
  "kernelspec": {
   "display_name": "Python (Reconhecimento Facial)",
   "language": "python",
   "name": "reconhecimento-facial"
  },
  "language_info": {
   "codemirror_mode": {
    "name": "ipython",
    "version": 3
   },
   "file_extension": ".py",
   "mimetype": "text/x-python",
   "name": "python",
   "nbconvert_exporter": "python",
   "pygments_lexer": "ipython3",
   "version": "3.11.3"
  }
 },
 "nbformat": 4,
 "nbformat_minor": 5
}
